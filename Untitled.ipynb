{
 "cells": [
  {
   "cell_type": "code",
   "execution_count": 1,
   "id": "c61ec7de",
   "metadata": {},
   "outputs": [],
   "source": [
    "import pandas as pd\n",
    "\n",
    "df = pd.read_csv(\"dataset/SecondaryData/secondary_data_no_miss.csv\",sep=';')"
   ]
  },
  {
   "cell_type": "code",
   "execution_count": 2,
   "id": "c4a0de48",
   "metadata": {},
   "outputs": [],
   "source": [
    "# checks if a str is a number that could be interpreted as a float\n",
    "def is_number(val):\n",
    "    \"\"\"\n",
    "    Parameters\n",
    "    ----------\n",
    "    val: str, arbitrary input\n",
    "\n",
    "    Returns\n",
    "    -------\n",
    "    bool, True if val is interpretable as a float and False else\n",
    "    \"\"\"\n",
    "\n",
    "    try:\n",
    "        float(val)\n",
    "        return True\n",
    "    except ValueError:\n",
    "        return False"
   ]
  },
  {
   "cell_type": "code",
   "execution_count": 16,
   "id": "a2b0f750",
   "metadata": {},
   "outputs": [],
   "source": [
    "import matplotlib.pyplot as plt"
   ]
  },
  {
   "cell_type": "code",
   "execution_count": 2,
   "id": "39341d87",
   "metadata": {},
   "outputs": [
    {
     "ename": "ValueError",
     "evalue": "\nTo use the 'altair_viewer' renderer, you must install the altair_viewer\npackage; see http://github.com/altair-viz/altair_viewer/\nfor more information.\n",
     "output_type": "error",
     "traceback": [
      "\u001b[0;31m---------------------------------------------------------------------------\u001b[0m",
      "\u001b[0;31mValueError\u001b[0m                                Traceback (most recent call last)",
      "\u001b[0;32m~/.local/lib/python3.10/site-packages/altair/utils/plugin_registry.py\u001b[0m in \u001b[0;36m_enable\u001b[0;34m(self, name, **options)\u001b[0m\n\u001b[1;32m    154\u001b[0m             \u001b[0;32mtry\u001b[0m\u001b[0;34m:\u001b[0m\u001b[0;34m\u001b[0m\u001b[0;34m\u001b[0m\u001b[0m\n\u001b[0;32m--> 155\u001b[0;31m                 (ep,) = [\n\u001b[0m\u001b[1;32m    156\u001b[0m                     \u001b[0mep\u001b[0m\u001b[0;34m\u001b[0m\u001b[0;34m\u001b[0m\u001b[0m\n",
      "\u001b[0;31mValueError\u001b[0m: not enough values to unpack (expected 1, got 0)",
      "\nThe above exception was the direct cause of the following exception:\n",
      "\u001b[0;31mValueError\u001b[0m                                Traceback (most recent call last)",
      "\u001b[0;32m/tmp/ipykernel_19205/1726629701.py\u001b[0m in \u001b[0;36m<module>\u001b[0;34m\u001b[0m\n\u001b[1;32m      7\u001b[0m \u001b[0malt\u001b[0m\u001b[0;34m.\u001b[0m\u001b[0mdata_transformers\u001b[0m\u001b[0;34m.\u001b[0m\u001b[0mregister\u001b[0m\u001b[0;34m(\u001b[0m\u001b[0;34m'custom'\u001b[0m\u001b[0;34m,\u001b[0m \u001b[0mt\u001b[0m\u001b[0;34m)\u001b[0m\u001b[0;34m\u001b[0m\u001b[0;34m\u001b[0m\u001b[0m\n\u001b[1;32m      8\u001b[0m \u001b[0malt\u001b[0m\u001b[0;34m.\u001b[0m\u001b[0mdata_transformers\u001b[0m\u001b[0;34m.\u001b[0m\u001b[0menable\u001b[0m\u001b[0;34m(\u001b[0m\u001b[0;34m'custom'\u001b[0m\u001b[0;34m)\u001b[0m\u001b[0;34m\u001b[0m\u001b[0;34m\u001b[0m\u001b[0m\n\u001b[0;32m----> 9\u001b[0;31m \u001b[0malt\u001b[0m\u001b[0;34m.\u001b[0m\u001b[0mrenderers\u001b[0m\u001b[0;34m.\u001b[0m\u001b[0menable\u001b[0m\u001b[0;34m(\u001b[0m\u001b[0;34m'altair_viewer'\u001b[0m\u001b[0;34m,\u001b[0m \u001b[0minline\u001b[0m\u001b[0;34m=\u001b[0m\u001b[0;32mTrue\u001b[0m\u001b[0;34m)\u001b[0m\u001b[0;34m\u001b[0m\u001b[0;34m\u001b[0m\u001b[0m\n\u001b[0m\u001b[1;32m     10\u001b[0m \u001b[0;34m\u001b[0m\u001b[0m\n\u001b[1;32m     11\u001b[0m \u001b[0;34m\u001b[0m\u001b[0m\n",
      "\u001b[0;32m~/.local/lib/python3.10/site-packages/altair/utils/plugin_registry.py\u001b[0m in \u001b[0;36menable\u001b[0;34m(self, name, **options)\u001b[0m\n\u001b[1;32m    192\u001b[0m         \u001b[0;32mif\u001b[0m \u001b[0mname\u001b[0m \u001b[0;32mis\u001b[0m \u001b[0;32mNone\u001b[0m\u001b[0;34m:\u001b[0m\u001b[0;34m\u001b[0m\u001b[0;34m\u001b[0m\u001b[0m\n\u001b[1;32m    193\u001b[0m             \u001b[0mname\u001b[0m \u001b[0;34m=\u001b[0m \u001b[0mself\u001b[0m\u001b[0;34m.\u001b[0m\u001b[0mactive\u001b[0m\u001b[0;34m\u001b[0m\u001b[0;34m\u001b[0m\u001b[0m\n\u001b[0;32m--> 194\u001b[0;31m         \u001b[0;32mreturn\u001b[0m \u001b[0mPluginEnabler\u001b[0m\u001b[0;34m(\u001b[0m\u001b[0mself\u001b[0m\u001b[0;34m,\u001b[0m \u001b[0mname\u001b[0m\u001b[0;34m,\u001b[0m \u001b[0;34m**\u001b[0m\u001b[0moptions\u001b[0m\u001b[0;34m)\u001b[0m\u001b[0;34m\u001b[0m\u001b[0;34m\u001b[0m\u001b[0m\n\u001b[0m\u001b[1;32m    195\u001b[0m \u001b[0;34m\u001b[0m\u001b[0m\n\u001b[1;32m    196\u001b[0m     \u001b[0;34m@\u001b[0m\u001b[0mproperty\u001b[0m\u001b[0;34m\u001b[0m\u001b[0;34m\u001b[0m\u001b[0m\n",
      "\u001b[0;32m~/.local/lib/python3.10/site-packages/altair/utils/plugin_registry.py\u001b[0m in \u001b[0;36m__init__\u001b[0;34m(self, registry, name, **options)\u001b[0m\n\u001b[1;32m     39\u001b[0m         \u001b[0mself\u001b[0m\u001b[0;34m.\u001b[0m\u001b[0moptions\u001b[0m \u001b[0;34m=\u001b[0m \u001b[0moptions\u001b[0m  \u001b[0;31m# type: Dict[str, Any]\u001b[0m\u001b[0;34m\u001b[0m\u001b[0;34m\u001b[0m\u001b[0m\n\u001b[1;32m     40\u001b[0m         \u001b[0mself\u001b[0m\u001b[0;34m.\u001b[0m\u001b[0moriginal_state\u001b[0m \u001b[0;34m=\u001b[0m \u001b[0mregistry\u001b[0m\u001b[0;34m.\u001b[0m\u001b[0m_get_state\u001b[0m\u001b[0;34m(\u001b[0m\u001b[0;34m)\u001b[0m  \u001b[0;31m# type: Dict[str, Any]\u001b[0m\u001b[0;34m\u001b[0m\u001b[0;34m\u001b[0m\u001b[0m\n\u001b[0;32m---> 41\u001b[0;31m         \u001b[0mself\u001b[0m\u001b[0;34m.\u001b[0m\u001b[0mregistry\u001b[0m\u001b[0;34m.\u001b[0m\u001b[0m_enable\u001b[0m\u001b[0;34m(\u001b[0m\u001b[0mname\u001b[0m\u001b[0;34m,\u001b[0m \u001b[0;34m**\u001b[0m\u001b[0moptions\u001b[0m\u001b[0;34m)\u001b[0m\u001b[0;34m\u001b[0m\u001b[0;34m\u001b[0m\u001b[0m\n\u001b[0m\u001b[1;32m     42\u001b[0m \u001b[0;34m\u001b[0m\u001b[0m\n\u001b[1;32m     43\u001b[0m     \u001b[0;32mdef\u001b[0m \u001b[0m__enter__\u001b[0m\u001b[0;34m(\u001b[0m\u001b[0mself\u001b[0m\u001b[0;34m)\u001b[0m \u001b[0;34m->\u001b[0m \u001b[0;34m\"PluginEnabler\"\u001b[0m\u001b[0;34m:\u001b[0m\u001b[0;34m\u001b[0m\u001b[0;34m\u001b[0m\u001b[0m\n",
      "\u001b[0;32m~/.local/lib/python3.10/site-packages/altair/utils/plugin_registry.py\u001b[0m in \u001b[0;36m_enable\u001b[0;34m(self, name, **options)\u001b[0m\n\u001b[1;32m    160\u001b[0m             \u001b[0;32mexcept\u001b[0m \u001b[0mValueError\u001b[0m \u001b[0;32mas\u001b[0m \u001b[0merr\u001b[0m\u001b[0;34m:\u001b[0m\u001b[0;34m\u001b[0m\u001b[0;34m\u001b[0m\u001b[0m\n\u001b[1;32m    161\u001b[0m                 \u001b[0;32mif\u001b[0m \u001b[0mname\u001b[0m \u001b[0;32min\u001b[0m \u001b[0mself\u001b[0m\u001b[0;34m.\u001b[0m\u001b[0mentrypoint_err_messages\u001b[0m\u001b[0;34m:\u001b[0m\u001b[0;34m\u001b[0m\u001b[0;34m\u001b[0m\u001b[0m\n\u001b[0;32m--> 162\u001b[0;31m                     \u001b[0;32mraise\u001b[0m \u001b[0mValueError\u001b[0m\u001b[0;34m(\u001b[0m\u001b[0mself\u001b[0m\u001b[0;34m.\u001b[0m\u001b[0mentrypoint_err_messages\u001b[0m\u001b[0;34m[\u001b[0m\u001b[0mname\u001b[0m\u001b[0;34m]\u001b[0m\u001b[0;34m)\u001b[0m \u001b[0;32mfrom\u001b[0m \u001b[0merr\u001b[0m\u001b[0;34m\u001b[0m\u001b[0;34m\u001b[0m\u001b[0m\n\u001b[0m\u001b[1;32m    163\u001b[0m                 \u001b[0;32melse\u001b[0m\u001b[0;34m:\u001b[0m\u001b[0;34m\u001b[0m\u001b[0;34m\u001b[0m\u001b[0m\n\u001b[1;32m    164\u001b[0m                     \u001b[0;32mraise\u001b[0m \u001b[0mNoSuchEntryPoint\u001b[0m\u001b[0;34m(\u001b[0m\u001b[0mself\u001b[0m\u001b[0;34m.\u001b[0m\u001b[0mentry_point_group\u001b[0m\u001b[0;34m,\u001b[0m \u001b[0mname\u001b[0m\u001b[0;34m)\u001b[0m \u001b[0;32mfrom\u001b[0m \u001b[0merr\u001b[0m\u001b[0;34m\u001b[0m\u001b[0;34m\u001b[0m\u001b[0m\n",
      "\u001b[0;31mValueError\u001b[0m: \nTo use the 'altair_viewer' renderer, you must install the altair_viewer\npackage; see http://github.com/altair-viz/altair_viewer/\nfor more information.\n"
     ]
    }
   ],
   "source": [
    "import altair as alt\n",
    "from dython import nominal\n",
    "import altair_viewer\n",
    "import scipy\n",
    "from altair import pipe, limit_rows, to_values\n",
    "t = lambda data: pipe(data, limit_rows(max_rows=100000), to_values)\n",
    "alt.data_transformers.register('custom', t)\n",
    "alt.data_transformers.enable('custom')\n",
    "alt.renderers.enable('altair_viewer', inline=True)\n",
    "\n",
    "\n",
    "def get_correlation_dataframe(data, **kwargs):\n",
    "    \"\"\"\n",
    "    Parameters\n",
    "    ----------\n",
    "    data: pandas.DataFrame\n",
    "    DataFrame with nominal or metrical columns\n",
    "\n",
    "    kwargs:\n",
    "    show_progress: bool, default=False\n",
    "    Prints each row if True\n",
    "\n",
    "    Returns\n",
    "    -------\n",
    "    var name=data_corr: pandas.DataFrame,\n",
    "    with two column names and their correlation\n",
    "    \"\"\"\n",
    "\n",
    "    if 'show_progress' not in kwargs:\n",
    "        kwargs['show_progress'] = False\n",
    "    data_corr = pd.DataFrame(columns=['variable1', 'variable2', 'correlation', 'correlation_rounded'])\n",
    "    for variable1 in data:\n",
    "        for variable2 in data:\n",
    "            # nominal-nominal -> Theils U\n",
    "            if type(data[variable1][0]) == str and type(data[variable2][0]) == str:\n",
    "                corr = nominal.theils_u(data[variable1], data[variable2], nan_replace_value='f')\n",
    "            # metircal-metrical -> Pearsons R\n",
    "            elif is_number(data[variable1][0]) and is_number(data[variable2][0]):\n",
    "                corr = scipy.stats.stats.pearsonr(data[variable1], data[variable2])[0]\n",
    "                # change range from [-1, 1] to [0, 1] as the other metrics\n",
    "                corr = (corr + 1) / 2\n",
    "            # metrical-nominal -> correlation ratio\n",
    "            elif type(data[variable1][0]) == str and is_number(data[variable2][0]):\n",
    "                corr = nominal.correlation_ratio(data[variable1], data[variable2], nan_replace_value='f')\n",
    "            elif type(data[variable2][0]) == str and is_number(data[variable1][0]):\n",
    "                corr = nominal.correlation_ratio(data[variable2], data[variable1], nan_replace_value='f')\n",
    "            else:\n",
    "                print('var1-type: ' + str(type(data[variable1][0])) + ', var2-type: ' + str(type(data[variable2][0])))\n",
    "                print('var1: ' + str(data[variable1][0]) + ', var2: ' + str(data[variable2][0]))\n",
    "            new_row = {'variable1': variable1, 'variable2': variable2,\n",
    "                'correlation': corr, 'correlation_rounded': round(corr, 2)}\n",
    "            data_corr = pd.concat([data_corr, pd.DataFrame([new_row])], ignore_index=True)\n",
    "            if kwargs['show_progress']:\n",
    "                print(new_row)\n",
    "    return data_corr\n",
    "\n",
    "\n",
    "def get_correlation_chart(data, **kwargs):\n",
    "    \"\"\"\n",
    "    Parameters\n",
    "    ----------\n",
    "    data: pandas.DataFrame\n",
    "    data with nominal or metrical columns\n",
    "\n",
    "    kwargs:\n",
    "    show_progress: bool, default=False,\n",
    "    prints each row if True\n",
    "\n",
    "    Returns\n",
    "    -------\n",
    "    altair.Chart,\n",
    "    correlation heatmap of the data columns based on get_correlation_dataframe\n",
    "    \"\"\"\n",
    "\n",
    "    if 'show_progress' not in kwargs:\n",
    "        kwargs['show_progress'] = False\n",
    "\n",
    "    data_corr = get_correlation_dataframe(data, show_progress=kwargs['show_progress'])\n",
    "\n",
    "    base_chart = alt.Chart(data_corr).encode(\n",
    "        alt.X('variable1:N', sort=data.columns.values),\n",
    "        alt.Y('variable2:N', sort=data.columns.values)\n",
    "    )\n",
    "\n",
    "    corr_chart = base_chart.mark_rect().encode(\n",
    "        alt.Color('correlation:Q', scale=alt.Scale(scheme='greys')),\n",
    "    )\n",
    "\n",
    "    text_chart = base_chart.mark_text().encode(\n",
    "        alt.Text('correlation_rounded:Q'),\n",
    "        color = (alt.condition(\n",
    "            alt.datum.correlation > 0.5,\n",
    "            alt.value('white'),\n",
    "            alt.value('black')\n",
    "        ))\n",
    "    )\n",
    "\n",
    "    return corr_chart + text_chart\n"
   ]
  },
  {
   "cell_type": "code",
   "execution_count": 20,
   "id": "c6743b85",
   "metadata": {},
   "outputs": [
    {
     "name": "stderr",
     "output_type": "stream",
     "text": [
      "/tmp/ipykernel_16797/1409507664.py:38: DeprecationWarning: Please use `pearsonr` from the `scipy.stats` namespace, the `scipy.stats.stats` namespace is deprecated.\n",
      "  corr = scipy.stats.stats.pearsonr(data[variable1], data[variable2])[0]\n",
      "/home/matteo/.local/lib/python3.10/site-packages/altair/utils/data.py:257: AltairDeprecationWarning: alt.pipe() is deprecated, and will be removed in a future release. Use toolz.curried.pipe() instead.\n",
      "  warnings.warn(\n"
     ]
    },
    {
     "ename": "RuntimeError",
     "evalue": "Internal: _stream is not defined.",
     "output_type": "error",
     "traceback": [
      "\u001b[0;31m---------------------------------------------------------------------------\u001b[0m",
      "\u001b[0;31mRuntimeError\u001b[0m                              Traceback (most recent call last)",
      "\u001b[0;32m/tmp/ipykernel_16797/1433092006.py\u001b[0m in \u001b[0;36m<module>\u001b[0;34m\u001b[0m\n\u001b[1;32m      6\u001b[0m \u001b[0;34m\u001b[0m\u001b[0m\n\u001b[1;32m      7\u001b[0m \u001b[0mchart\u001b[0m \u001b[0;34m=\u001b[0m \u001b[0mget_correlation_chart\u001b[0m\u001b[0;34m(\u001b[0m\u001b[0mencoded_data\u001b[0m\u001b[0;34m)\u001b[0m\u001b[0;34m\u001b[0m\u001b[0;34m\u001b[0m\u001b[0m\n\u001b[0;32m----> 8\u001b[0;31m \u001b[0mview\u001b[0m\u001b[0;34m.\u001b[0m\u001b[0mshow\u001b[0m\u001b[0;34m(\u001b[0m\u001b[0mchart\u001b[0m\u001b[0;34m)\u001b[0m\u001b[0;34m\u001b[0m\u001b[0;34m\u001b[0m\u001b[0m\n\u001b[0m",
      "\u001b[0;32m~/.local/lib/python3.10/site-packages/altair_viewer/_viewer.py\u001b[0m in \u001b[0;36mshow\u001b[0;34m(self, chart, embed_opt, open_browser)\u001b[0m\n\u001b[1;32m    353\u001b[0m         \u001b[0mrender\u001b[0m \u001b[0;34m:\u001b[0m \u001b[0mJupyter\u001b[0m \u001b[0mrenderer\u001b[0m \u001b[0;32mfor\u001b[0m \u001b[0mchart\u001b[0m\u001b[0;34m.\u001b[0m\u001b[0;34m\u001b[0m\u001b[0;34m\u001b[0m\u001b[0m\n\u001b[1;32m    354\u001b[0m         \"\"\"\n\u001b[0;32m--> 355\u001b[0;31m         \u001b[0mmsg\u001b[0m \u001b[0;34m=\u001b[0m \u001b[0mself\u001b[0m\u001b[0;34m.\u001b[0m\u001b[0mdisplay\u001b[0m\u001b[0;34m(\u001b[0m\u001b[0mchart\u001b[0m\u001b[0;34m,\u001b[0m \u001b[0membed_opt\u001b[0m\u001b[0;34m=\u001b[0m\u001b[0membed_opt\u001b[0m\u001b[0;34m,\u001b[0m \u001b[0mopen_browser\u001b[0m\u001b[0;34m=\u001b[0m\u001b[0mopen_browser\u001b[0m\u001b[0;34m)\u001b[0m\u001b[0;34m\u001b[0m\u001b[0;34m\u001b[0m\u001b[0m\n\u001b[0m\u001b[1;32m    356\u001b[0m         \u001b[0mprint\u001b[0m\u001b[0;34m(\u001b[0m\u001b[0mmsg\u001b[0m\u001b[0;34m)\u001b[0m\u001b[0;34m\u001b[0m\u001b[0;34m\u001b[0m\u001b[0m\n\u001b[1;32m    357\u001b[0m         \u001b[0;32mif\u001b[0m \u001b[0mself\u001b[0m\u001b[0;34m.\u001b[0m\u001b[0m_provider\u001b[0m \u001b[0;32mis\u001b[0m \u001b[0;32mnot\u001b[0m \u001b[0;32mNone\u001b[0m\u001b[0;34m:\u001b[0m\u001b[0;34m\u001b[0m\u001b[0;34m\u001b[0m\u001b[0m\n",
      "\u001b[0;32m~/.local/lib/python3.10/site-packages/altair_viewer/_viewer.py\u001b[0m in \u001b[0;36mdisplay\u001b[0;34m(self, chart, inline, embed_opt, open_browser)\u001b[0m\n\u001b[1;32m    266\u001b[0m         \u001b[0mself\u001b[0m\u001b[0;34m.\u001b[0m\u001b[0m_initialize\u001b[0m\u001b[0;34m(\u001b[0m\u001b[0;34m)\u001b[0m\u001b[0;34m\u001b[0m\u001b[0;34m\u001b[0m\u001b[0m\n\u001b[1;32m    267\u001b[0m         \u001b[0;32mif\u001b[0m \u001b[0mself\u001b[0m\u001b[0;34m.\u001b[0m\u001b[0m_stream\u001b[0m \u001b[0;32mis\u001b[0m \u001b[0;32mNone\u001b[0m\u001b[0;34m:\u001b[0m\u001b[0;34m\u001b[0m\u001b[0;34m\u001b[0m\u001b[0m\n\u001b[0;32m--> 268\u001b[0;31m             \u001b[0;32mraise\u001b[0m \u001b[0mRuntimeError\u001b[0m\u001b[0;34m(\u001b[0m\u001b[0;34m\"Internal: _stream is not defined.\"\u001b[0m\u001b[0;34m)\u001b[0m\u001b[0;34m\u001b[0m\u001b[0;34m\u001b[0m\u001b[0m\n\u001b[0m\u001b[1;32m    269\u001b[0m         \u001b[0;32mif\u001b[0m \u001b[0minline\u001b[0m\u001b[0;34m:\u001b[0m\u001b[0;34m\u001b[0m\u001b[0;34m\u001b[0m\u001b[0m\n\u001b[1;32m    270\u001b[0m             \u001b[0;32mfrom\u001b[0m \u001b[0mIPython\u001b[0m \u001b[0;32mimport\u001b[0m \u001b[0mdisplay\u001b[0m\u001b[0;34m\u001b[0m\u001b[0;34m\u001b[0m\u001b[0m\n",
      "\u001b[0;31mRuntimeError\u001b[0m: Internal: _stream is not defined."
     ]
    }
   ],
   "source": [
    "from sklearn.preprocessing import LabelEncoder\n",
    "encoded_data = df.copy()\n",
    "le = LabelEncoder()\n",
    "encoded_data['class'] = le.fit_transform(df['class'])\n",
    "encoded_data = pd.get_dummies(encoded_data)\n",
    "\n",
    "chart = get_correlation_chart(encoded_data)\n",
    "view.show(chart)\n"
   ]
  },
  {
   "cell_type": "code",
   "execution_count": null,
   "id": "347a27ef",
   "metadata": {},
   "outputs": [],
   "source": []
  }
 ],
 "metadata": {
  "kernelspec": {
   "display_name": "Python 3 (ipykernel)",
   "language": "python",
   "name": "python3"
  },
  "language_info": {
   "codemirror_mode": {
    "name": "ipython",
    "version": 3
   },
   "file_extension": ".py",
   "mimetype": "text/x-python",
   "name": "python",
   "nbconvert_exporter": "python",
   "pygments_lexer": "ipython3",
   "version": "3.10.6"
  }
 },
 "nbformat": 4,
 "nbformat_minor": 5
}
